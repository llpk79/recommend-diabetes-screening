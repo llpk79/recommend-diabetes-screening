{
 "cells": [
  {
   "cell_type": "code",
   "execution_count": 1,
   "metadata": {
    "ExecuteTime": {
     "end_time": "2019-06-27T21:28:19.298299Z",
     "start_time": "2019-06-27T21:27:20.160878Z"
    }
   },
   "outputs": [],
   "source": [
    "import eli5\n",
    "import shap\n",
    "import numpy as np\n",
    "import pandas as pd\n",
    "import matplotlib.pyplot as plt\n",
    "import seaborn as sns\n",
    "from category_encoders import OrdinalEncoder\n",
    "from eli5.sklearn import PermutationImportance\n",
    "from ipywidgets import interact, fixed\n",
    "from joblib import dump, load\n",
    "from sklearn.metrics import roc_auc_score, roc_curve, classification_report, confusion_matrix\n",
    "from sklearn.impute import SimpleImputer\n",
    "from sklearn.model_selection import train_test_split, RandomizedSearchCV, GridSearchCV\n",
    "from sklearn.pipeline import make_pipeline\n",
    "from sklearn.ensemble import RandomForestClassifier\n",
    "from sklearn.utils import shuffle\n",
    "from sklearn.utils.multiclass import unique_labels\n",
    "from xgboost import XGBRFClassifier, XGBClassifier\n",
    "from jupyterthemes import jtplot"
   ]
  },
  {
   "cell_type": "code",
   "execution_count": 2,
   "metadata": {
    "ExecuteTime": {
     "end_time": "2019-06-27T21:28:19.324023Z",
     "start_time": "2019-06-27T21:28:19.315991Z"
    }
   },
   "outputs": [
    {
     "data": {
      "text/plain": [
       "'0.24.2'"
      ]
     },
     "execution_count": 2,
     "metadata": {},
     "output_type": "execute_result"
    }
   ],
   "source": [
    "pd.__version__"
   ]
  },
  {
   "cell_type": "code",
   "execution_count": 3,
   "metadata": {
    "ExecuteTime": {
     "end_time": "2019-06-27T21:28:19.690609Z",
     "start_time": "2019-06-27T21:28:19.397942Z"
    }
   },
   "outputs": [],
   "source": [
    "%matplotlib inline\n",
    "jtplot.style(grid=False)\n",
    "pd.set_option('display.max_columns', 50)"
   ]
  },
  {
   "cell_type": "code",
   "execution_count": 6,
   "metadata": {
    "ExecuteTime": {
     "end_time": "2019-06-27T21:31:23.545239Z",
     "start_time": "2019-06-27T21:31:09.757319Z"
    }
   },
   "outputs": [],
   "source": [
    "%run -i main.py"
   ]
  },
  {
   "cell_type": "code",
   "execution_count": 7,
   "metadata": {
    "ExecuteTime": {
     "end_time": "2019-06-27T21:31:24.126822Z",
     "start_time": "2019-06-27T21:31:23.659176Z"
    }
   },
   "outputs": [],
   "source": [
    "df = pd.read_csv('model/model_data.csv').set_index('index')"
   ]
  },
  {
   "cell_type": "code",
   "execution_count": 8,
   "metadata": {
    "ExecuteTime": {
     "end_time": "2019-06-27T21:31:24.645189Z",
     "start_time": "2019-06-27T21:31:24.310731Z"
    },
    "scrolled": true
   },
   "outputs": [
    {
     "data": {
      "text/html": [
       "<div>\n",
       "<style scoped>\n",
       "    .dataframe tbody tr th:only-of-type {\n",
       "        vertical-align: middle;\n",
       "    }\n",
       "\n",
       "    .dataframe tbody tr th {\n",
       "        vertical-align: top;\n",
       "    }\n",
       "\n",
       "    .dataframe thead th {\n",
       "        text-align: right;\n",
       "    }\n",
       "</style>\n",
       "<table border=\"1\" class=\"dataframe\">\n",
       "  <thead>\n",
       "    <tr style=\"text-align: right;\">\n",
       "      <th></th>\n",
       "      <th>Age</th>\n",
       "      <th>Race</th>\n",
       "      <th>Income</th>\n",
       "      <th>Over Median Income</th>\n",
       "      <th>Ownership</th>\n",
       "      <th>Total Household</th>\n",
       "      <th>Employment</th>\n",
       "      <th>Active</th>\n",
       "      <th>Overweight</th>\n",
       "      <th>Diabetic</th>\n",
       "      <th>Good Health</th>\n",
       "      <th>Fruit</th>\n",
       "      <th>Vegetables</th>\n",
       "      <th>Sleep Hrs</th>\n",
       "      <th>Insurance</th>\n",
       "      <th>Dr Too Much</th>\n",
       "      <th>Recent Dr Visit</th>\n",
       "      <th>Smoker</th>\n",
       "      <th>Alcohol</th>\n",
       "    </tr>\n",
       "    <tr>\n",
       "      <th>index</th>\n",
       "      <th></th>\n",
       "      <th></th>\n",
       "      <th></th>\n",
       "      <th></th>\n",
       "      <th></th>\n",
       "      <th></th>\n",
       "      <th></th>\n",
       "      <th></th>\n",
       "      <th></th>\n",
       "      <th></th>\n",
       "      <th></th>\n",
       "      <th></th>\n",
       "      <th></th>\n",
       "      <th></th>\n",
       "      <th></th>\n",
       "      <th></th>\n",
       "      <th></th>\n",
       "      <th></th>\n",
       "      <th></th>\n",
       "    </tr>\n",
       "  </thead>\n",
       "  <tbody>\n",
       "    <tr>\n",
       "      <th>41694</th>\n",
       "      <td>80-84</td>\n",
       "      <td>White</td>\n",
       "      <td>$20-25K</td>\n",
       "      <td>False</td>\n",
       "      <td>Own</td>\n",
       "      <td>1.0</td>\n",
       "      <td>Unknown</td>\n",
       "      <td>Unknown</td>\n",
       "      <td>Over</td>\n",
       "      <td>False</td>\n",
       "      <td>Good</td>\n",
       "      <td>Unknown</td>\n",
       "      <td>Unknown</td>\n",
       "      <td>10.0</td>\n",
       "      <td>Unknown</td>\n",
       "      <td>No</td>\n",
       "      <td>Past Year</td>\n",
       "      <td>Never Smoked</td>\n",
       "      <td>30</td>\n",
       "    </tr>\n",
       "    <tr>\n",
       "      <th>49527</th>\n",
       "      <td>25-29</td>\n",
       "      <td>Hisp.</td>\n",
       "      <td>Unknown</td>\n",
       "      <td>False</td>\n",
       "      <td>Rent</td>\n",
       "      <td>3.0</td>\n",
       "      <td>Unknown</td>\n",
       "      <td>Unknown</td>\n",
       "      <td>Obese</td>\n",
       "      <td>False</td>\n",
       "      <td>Fair</td>\n",
       "      <td>Unknown</td>\n",
       "      <td>Unknown</td>\n",
       "      <td>6.0</td>\n",
       "      <td>Yes</td>\n",
       "      <td>No</td>\n",
       "      <td>1-2 years</td>\n",
       "      <td>Never Smoked</td>\n",
       "      <td>2</td>\n",
       "    </tr>\n",
       "    <tr>\n",
       "      <th>64569</th>\n",
       "      <td>35-39</td>\n",
       "      <td>White</td>\n",
       "      <td>$35-50K</td>\n",
       "      <td>False</td>\n",
       "      <td>Rent</td>\n",
       "      <td>3.0</td>\n",
       "      <td>Unknown</td>\n",
       "      <td>Unknown</td>\n",
       "      <td>Over</td>\n",
       "      <td>False</td>\n",
       "      <td>Very Good</td>\n",
       "      <td>Monthly</td>\n",
       "      <td>Monthly</td>\n",
       "      <td>NaN</td>\n",
       "      <td>Yes</td>\n",
       "      <td>No</td>\n",
       "      <td>1-2 years</td>\n",
       "      <td>Former Smoker</td>\n",
       "      <td>3</td>\n",
       "    </tr>\n",
       "    <tr>\n",
       "      <th>5458</th>\n",
       "      <td>25-29</td>\n",
       "      <td>Hisp.</td>\n",
       "      <td>$25-35K</td>\n",
       "      <td>False</td>\n",
       "      <td>Rent</td>\n",
       "      <td>3.0</td>\n",
       "      <td>Employed for wages</td>\n",
       "      <td>Does not meet Aerobic Recs</td>\n",
       "      <td>Obese</td>\n",
       "      <td>False</td>\n",
       "      <td>Fair</td>\n",
       "      <td>Monthly</td>\n",
       "      <td>Monthly</td>\n",
       "      <td>NaN</td>\n",
       "      <td>Yes</td>\n",
       "      <td>No</td>\n",
       "      <td>Past Year</td>\n",
       "      <td>Never Smoked</td>\n",
       "      <td>5</td>\n",
       "    </tr>\n",
       "    <tr>\n",
       "      <th>59335</th>\n",
       "      <td>40-44</td>\n",
       "      <td>White</td>\n",
       "      <td>$75+</td>\n",
       "      <td>True</td>\n",
       "      <td>Rent</td>\n",
       "      <td>2.0</td>\n",
       "      <td>Unknown</td>\n",
       "      <td>Unknown</td>\n",
       "      <td>Obese</td>\n",
       "      <td>False</td>\n",
       "      <td>Excellent</td>\n",
       "      <td>Weekly</td>\n",
       "      <td>Monthly</td>\n",
       "      <td>NaN</td>\n",
       "      <td>Yes</td>\n",
       "      <td>No</td>\n",
       "      <td>1-2 years</td>\n",
       "      <td>Never Smoked</td>\n",
       "      <td>4</td>\n",
       "    </tr>\n",
       "  </tbody>\n",
       "</table>\n",
       "</div>"
      ],
      "text/plain": [
       "         Age   Race   Income  Over Median Income Ownership  Total Household  \\\n",
       "index                                                                         \n",
       "41694  80-84  White  $20-25K               False       Own              1.0   \n",
       "49527  25-29  Hisp.  Unknown               False      Rent              3.0   \n",
       "64569  35-39  White  $35-50K               False      Rent              3.0   \n",
       "5458   25-29  Hisp.  $25-35K               False      Rent              3.0   \n",
       "59335  40-44  White     $75+                True      Rent              2.0   \n",
       "\n",
       "               Employment                      Active Overweight  Diabetic  \\\n",
       "index                                                                        \n",
       "41694             Unknown                     Unknown       Over     False   \n",
       "49527             Unknown                     Unknown      Obese     False   \n",
       "64569             Unknown                     Unknown       Over     False   \n",
       "5458   Employed for wages  Does not meet Aerobic Recs      Obese     False   \n",
       "59335             Unknown                     Unknown      Obese     False   \n",
       "\n",
       "      Good Health    Fruit Vegetables  Sleep Hrs Insurance Dr Too Much  \\\n",
       "index                                                                    \n",
       "41694        Good  Unknown    Unknown       10.0   Unknown          No   \n",
       "49527        Fair  Unknown    Unknown        6.0       Yes          No   \n",
       "64569   Very Good  Monthly    Monthly        NaN       Yes          No   \n",
       "5458         Fair  Monthly    Monthly        NaN       Yes          No   \n",
       "59335   Excellent   Weekly    Monthly        NaN       Yes          No   \n",
       "\n",
       "      Recent Dr Visit         Smoker Alcohol  \n",
       "index                                         \n",
       "41694       Past Year   Never Smoked      30  \n",
       "49527       1-2 years   Never Smoked       2  \n",
       "64569       1-2 years  Former Smoker       3  \n",
       "5458        Past Year   Never Smoked       5  \n",
       "59335       1-2 years   Never Smoked       4  "
      ]
     },
     "execution_count": 8,
     "metadata": {},
     "output_type": "execute_result"
    }
   ],
   "source": [
    "df.head()"
   ]
  },
  {
   "cell_type": "code",
   "execution_count": 9,
   "metadata": {
    "ExecuteTime": {
     "end_time": "2019-06-27T21:31:24.801168Z",
     "start_time": "2019-06-27T21:31:24.765119Z"
    }
   },
   "outputs": [],
   "source": [
    "def train_val_test_split(X, y):\n",
    "    trainval, test, y_trainval, y_test = train_test_split(X,\n",
    "                                                          y,\n",
    "                                                          stratify=y,\n",
    "                                                          random_state=42,\n",
    "                                                          )\n",
    "    train, val, y_train, y_val = train_test_split(trainval,\n",
    "                                                  y_trainval,\n",
    "                                                  stratify=y_trainval,\n",
    "                                                  random_state=42)\n",
    "    return train, val, test, y_train, y_val, y_test"
   ]
  },
  {
   "cell_type": "code",
   "execution_count": 10,
   "metadata": {
    "ExecuteTime": {
     "end_time": "2019-06-27T21:31:25.037766Z",
     "start_time": "2019-06-27T21:31:24.910106Z"
    }
   },
   "outputs": [
    {
     "data": {
      "text/plain": [
       "Index([False, True], dtype='object')"
      ]
     },
     "execution_count": 10,
     "metadata": {},
     "output_type": "execute_result"
    }
   ],
   "source": [
    "df['Over Median Income'].value_counts().index"
   ]
  },
  {
   "cell_type": "code",
   "execution_count": 11,
   "metadata": {
    "ExecuteTime": {
     "end_time": "2019-06-27T21:31:25.217688Z",
     "start_time": "2019-06-27T21:31:25.157682Z"
    }
   },
   "outputs": [],
   "source": [
    "target = 'Diabetic'\n",
    "y = df[target].astype(bool)\n",
    "X = df.drop(columns=target)"
   ]
  },
  {
   "cell_type": "code",
   "execution_count": 12,
   "metadata": {
    "ExecuteTime": {
     "end_time": "2019-06-27T21:31:25.726610Z",
     "start_time": "2019-06-27T21:31:25.393574Z"
    }
   },
   "outputs": [
    {
     "data": {
      "text/plain": [
       "((41559, 18), (13854, 18), (18472, 18), (41559,), (13854,), (18472,))"
      ]
     },
     "execution_count": 12,
     "metadata": {},
     "output_type": "execute_result"
    }
   ],
   "source": [
    "train, val, test, y_train, y_val, y_test = train_val_test_split(X, y)\n",
    "train.shape, val.shape, test.shape, y_train.shape, y_val.shape, y_test.shape"
   ]
  },
  {
   "cell_type": "code",
   "execution_count": 13,
   "metadata": {
    "ExecuteTime": {
     "end_time": "2019-06-27T21:31:26.161175Z",
     "start_time": "2019-06-27T21:31:26.146183Z"
    }
   },
   "outputs": [
    {
     "data": {
      "text/plain": [
       "False    0.889071\n",
       "True     0.110929\n",
       "Name: Diabetic, dtype: float64"
      ]
     },
     "execution_count": 13,
     "metadata": {},
     "output_type": "execute_result"
    }
   ],
   "source": [
    "# Predict majority class as baseline.\n",
    "y.value_counts(normalize=True)"
   ]
  },
  {
   "cell_type": "code",
   "execution_count": 14,
   "metadata": {
    "ExecuteTime": {
     "end_time": "2019-06-27T21:31:26.809803Z",
     "start_time": "2019-06-27T21:31:26.633904Z"
    }
   },
   "outputs": [
    {
     "data": {
      "text/plain": [
       "0.5"
      ]
     },
     "execution_count": 14,
     "metadata": {},
     "output_type": "execute_result"
    }
   ],
   "source": [
    "\n",
    "roc_auc_score(y_train, np.full(y_train.shape, 0))"
   ]
  },
  {
   "cell_type": "code",
   "execution_count": 15,
   "metadata": {
    "ExecuteTime": {
     "end_time": "2019-06-27T21:31:27.270539Z",
     "start_time": "2019-06-27T21:31:27.266542Z"
    }
   },
   "outputs": [],
   "source": [
    "pipeline = make_pipeline(OrdinalEncoder(),\n",
    "                         SimpleImputer())"
   ]
  },
  {
   "cell_type": "code",
   "execution_count": 16,
   "metadata": {
    "ExecuteTime": {
     "end_time": "2019-06-27T21:31:29.136470Z",
     "start_time": "2019-06-27T21:31:27.932160Z"
    }
   },
   "outputs": [
    {
     "data": {
      "text/plain": [
       "((41559, 18), (13854, 18), (18472, 18))"
      ]
     },
     "execution_count": 16,
     "metadata": {},
     "output_type": "execute_result"
    }
   ],
   "source": [
    "X_train = pipeline.fit_transform(train)\n",
    "X_val = pipeline.transform(val)\n",
    "X_test = pipeline.transform(test)\n",
    "X_train.shape, X_val.shape, X_test.shape"
   ]
  },
  {
   "cell_type": "code",
   "execution_count": 17,
   "metadata": {
    "ExecuteTime": {
     "end_time": "2019-06-27T21:31:30.141897Z",
     "start_time": "2019-06-27T21:31:30.136898Z"
    }
   },
   "outputs": [],
   "source": [
    "eval_set = [(X_train, y_train),\n",
    "            (X_val, y_val)]"
   ]
  },
  {
   "cell_type": "code",
   "execution_count": 18,
   "metadata": {
    "ExecuteTime": {
     "end_time": "2019-06-27T21:31:31.116337Z",
     "start_time": "2019-06-27T21:31:31.109342Z"
    }
   },
   "outputs": [],
   "source": [
    "model = XGBRFClassifier(n_jobs=-1,\n",
    "                        n_estimators=5000,\n",
    "                        early_stopping_rounds=100,\n",
    "                        random_state=42,\n",
    "                        scale_pos_weight=15,\n",
    "                        learning_rate=.005,\n",
    "                        reg_lambda=.01,\n",
    "                        verbosity=1)"
   ]
  },
  {
   "cell_type": "code",
   "execution_count": 19,
   "metadata": {
    "ExecuteTime": {
     "end_time": "2019-06-27T21:32:31.293024Z",
     "start_time": "2019-06-27T21:31:32.015822Z"
    }
   },
   "outputs": [
    {
     "name": "stdout",
     "output_type": "stream",
     "text": [
      "[0]\tvalidation_0-auc:0.785672\tvalidation_1-auc:0.773351\n"
     ]
    },
    {
     "data": {
      "text/plain": [
       "XGBRFClassifier(base_score=0.5, colsample_bylevel=1, colsample_bynode=0.8,\n",
       "                colsample_bytree=1, early_stopping_rounds=100, gamma=0,\n",
       "                learning_rate=0.005, max_delta_step=0, max_depth=3,\n",
       "                min_child_weight=1, missing=None, n_estimators=5000, n_jobs=-1,\n",
       "                nthread=None, objective='binary:logistic', random_state=42,\n",
       "                reg_alpha=0, reg_lambda=0.01, scale_pos_weight=15, seed=None,\n",
       "                silent=None, subsample=0.8, verbosity=1)"
      ]
     },
     "execution_count": 19,
     "metadata": {},
     "output_type": "execute_result"
    }
   ],
   "source": [
    "model.fit(X_train,\n",
    "          y_train,\n",
    "          eval_set=eval_set,\n",
    "          eval_metric='auc',\n",
    "          verbose=True)"
   ]
  },
  {
   "cell_type": "code",
   "execution_count": 20,
   "metadata": {
    "ExecuteTime": {
     "end_time": "2019-06-27T21:32:33.923717Z",
     "start_time": "2019-06-27T21:32:32.131247Z"
    }
   },
   "outputs": [
    {
     "name": "stdout",
     "output_type": "stream",
     "text": [
      "Validation ROC AUC score: 0.7733511120699031\n"
     ]
    },
    {
     "data": {
      "image/png": "[encoded data removed]",
      "text/plain": [
       "<Figure size 432x432 with 1 Axes>"
      ]
     },
     "metadata": {},
     "output_type": "display_data"
    }
   ],
   "source": [
    "y_pred_proba = model.predict_proba(X_val)[:, 1]\n",
    "print(f'Validation ROC AUC score: {roc_auc_score(y_val, y_pred_proba)}')\n",
    "curves = roc_curve(y_val, y_pred_proba)\n",
    "curve_x, curve_y = curves[0], curves[1]\n",
    "x_ = np.linspace(0, 1, len(curve_x))\n",
    "fig = plt.figure(figsize=(6, 6))\n",
    "ax = fig.gca()\n",
    "y_ = x_\n",
    "plt.plot(curve_x, curve_y, label='Model Preditions')\n",
    "plt.plot(x_, y_, color='red', label='Baseline')\n",
    "plt.title('ROC Curve.',\n",
    "          fontsize=16,\n",
    "          color='white')\n",
    "ax.set_ylabel('True Positive Rate')\n",
    "ax.set_xlabel('False Positive Rate')\n",
    "plt.legend();"
   ]
  },
  {
   "cell_type": "code",
   "execution_count": 21,
   "metadata": {
    "ExecuteTime": {
     "end_time": "2019-06-27T21:34:19.667737Z",
     "start_time": "2019-06-27T21:32:34.796800Z"
    }
   },
   "outputs": [
    {
     "data": {
      "text/plain": [
       "PermutationImportance(cv='prefit',\n",
       "                      estimator=XGBRFClassifier(base_score=0.5,\n",
       "                                                colsample_bylevel=1,\n",
       "                                                colsample_bynode=0.8,\n",
       "                                                colsample_bytree=1,\n",
       "                                                early_stopping_rounds=100,\n",
       "                                                gamma=0, learning_rate=0.005,\n",
       "                                                max_delta_step=0, max_depth=3,\n",
       "                                                min_child_weight=1,\n",
       "                                                missing=None, n_estimators=5000,\n",
       "                                                n_jobs=-1, nthread=None,\n",
       "                                                objective='binary:logistic',\n",
       "                                                random_state=42, reg_alpha=0,\n",
       "                                                reg_lambda=0.01,\n",
       "                                                scale_pos_weight=15, seed=None,\n",
       "                                                silent=None, subsample=0.8,\n",
       "                                                verbosity=1),\n",
       "                      n_iter=5, random_state=42, refit=True, scoring='roc_auc')"
      ]
     },
     "execution_count": 21,
     "metadata": {},
     "output_type": "execute_result"
    }
   ],
   "source": [
    "permuter = PermutationImportance(model,\n",
    "                                 cv='prefit',\n",
    "                                 n_iter=5,\n",
    "                                 scoring='roc_auc',\n",
    "                                 random_state=42)\n",
    "permuter.fit(X_val, y_val)"
   ]
  },
  {
   "cell_type": "code",
   "execution_count": 22,
   "metadata": {
    "ExecuteTime": {
     "end_time": "2019-06-27T21:34:21.052481Z",
     "start_time": "2019-06-27T21:34:20.587320Z"
    }
   },
   "outputs": [
    {
     "data": {
      "image/png": "[encoded data removed]",
      "text/plain": [
       "<Figure size 576x648 with 1 Axes>"
      ]
     },
     "metadata": {},
     "output_type": "display_data"
    }
   ],
   "source": [
    "features_of_import = pd.Series(permuter.feature_importances_, val.columns)\n",
    "plt.figure(figsize=(8, len(val.columns) / 2))\n",
    "features_of_import.sort_values(ascending=True).plot.barh();"
   ]
  },
  {
   "cell_type": "code",
   "execution_count": 23,
   "metadata": {
    "ExecuteTime": {
     "end_time": "2019-06-27T21:34:22.510944Z",
     "start_time": "2019-06-27T21:34:21.878304Z"
    }
   },
   "outputs": [],
   "source": [
    "mask = features_of_import > 0\n",
    "trimmed_columns = train.columns[mask]\n",
    "train_trimmed = train[trimmed_columns]\n",
    "val_trimmed = val[trimmed_columns]\n",
    "test_trimmed = test[trimmed_columns]\n",
    "\n",
    "pipeline1 = make_pipeline(OrdinalEncoder(),\n",
    "                          SimpleImputer())\n",
    "\n",
    "X_train_ = pipeline1.fit_transform(train_trimmed)\n",
    "X_val_ = pipeline1.transform(val_trimmed)\n",
    "X_test_ = pipeline1.transform(test_trimmed)\n",
    "\n",
    "eval_set1 = [(X_train_, y_train),\n",
    "            (X_val_, y_val)]"
   ]
  },
  {
   "cell_type": "code",
   "execution_count": 24,
   "metadata": {
    "ExecuteTime": {
     "end_time": "2019-06-27T21:35:10.124685Z",
     "start_time": "2019-06-27T21:34:23.884160Z"
    }
   },
   "outputs": [
    {
     "name": "stdout",
     "output_type": "stream",
     "text": [
      "[0]\tvalidation_0-auc:0.783355\tvalidation_1-auc:0.770201\n",
      "XGBRFClassifier validation ROC AUC: 0.7702009468059364\n"
     ]
    }
   ],
   "source": [
    "model.fit(X_train_, y_train, eval_set=eval_set1, eval_metric='auc')\n",
    "y_pred_proba = model.predict_proba(X_val_)[:, 1]\n",
    "print(f'XGBRFClassifier validation ROC AUC: {roc_auc_score(y_val, y_pred_proba)}')"
   ]
  },
  {
   "cell_type": "code",
   "execution_count": 25,
   "metadata": {
    "ExecuteTime": {
     "end_time": "2019-06-27T21:35:12.177072Z",
     "start_time": "2019-06-27T21:35:11.397476Z"
    }
   },
   "outputs": [
    {
     "data": {
      "text/plain": [
       "<matplotlib.axes._subplots.AxesSubplot at 0x1d20a495908>"
      ]
     },
     "execution_count": 25,
     "metadata": {},
     "output_type": "execute_result"
    },
    {
     "data": {
      "image/png": "[encoded data removed]",
      "text/plain": [
       "<Figure size 576x432 with 1 Axes>"
      ]
     },
     "metadata": {},
     "output_type": "display_data"
    }
   ],
   "source": [
    "importance = pd.Series(model.feature_importances_, val_trimmed.columns)\n",
    "plt.figure(figsize=(8, len(val_trimmed.columns) / 2))\n",
    "importance.sort_values(ascending=True).plot.barh()"
   ]
  },
  {
   "cell_type": "code",
   "execution_count": 26,
   "metadata": {
    "ExecuteTime": {
     "end_time": "2019-06-27T21:35:13.377588Z",
     "start_time": "2019-06-27T21:35:13.373593Z"
    },
    "scrolled": true
   },
   "outputs": [],
   "source": [
    "# params = {'n_estimators': [100, 500, 1000, 5000, 10000],\n",
    "#           'scale_pos_weights': [1, 5, 10, 15, 20],\n",
    "#           'learning_rate': [.0001, .001, .01, .02, .05],\n",
    "#           'reg_lambda': [.0001, .001, .01, .02, .05]}\n",
    "# search = RandomizedSearchCV(model,\n",
    "#                             param_distributions=params,\n",
    "#                             scoring='roc_auc',\n",
    "#                             n_iter=50,\n",
    "#                             cv=5,\n",
    "#                             n_jobs=-1)\n",
    "# search.fit(X_train_, y_train)\n",
    "# search.best_estimator_, search.best_params_, search.best_score_"
   ]
  },
  {
   "cell_type": "code",
   "execution_count": 27,
   "metadata": {
    "ExecuteTime": {
     "end_time": "2019-06-27T21:36:47.870720Z",
     "start_time": "2019-06-27T21:35:14.617110Z"
    }
   },
   "outputs": [],
   "source": [
    "best = XGBRFClassifier(scale_pos_weights=20,\n",
    "                       reg_lambda=0.02,\n",
    "                       n_estimators=10000,\n",
    "                       learning_rate=0.05,\n",
    "                       n_jobs=-1,\n",
    "                       early_stopping_rounds=100,\n",
    "                       random_state=42,\n",
    "                       verbosity=1)\n",
    "best.fit(X_train_, y_train)\n",
    "y_pred_proba1 = best.predict_proba(X_val_)[:, 1]"
   ]
  },
  {
   "cell_type": "code",
   "execution_count": 28,
   "metadata": {
    "ExecuteTime": {
     "end_time": "2019-06-27T21:36:49.295999Z",
     "start_time": "2019-06-27T21:36:49.292000Z"
    }
   },
   "outputs": [],
   "source": [
    "# best = search.best_estimator_\n",
    "# y_pred_proba1 = best.predict_proba(X_val_)[:, 1]"
   ]
  },
  {
   "cell_type": "code",
   "execution_count": 29,
   "metadata": {
    "ExecuteTime": {
     "end_time": "2019-06-27T21:36:50.615903Z",
     "start_time": "2019-06-27T21:36:50.605910Z"
    }
   },
   "outputs": [],
   "source": [
    "def nice_confusion(y_true, y_pred):\n",
    "    labels = unique_labels(y_true)\n",
    "    columns = [f'Predicted {label}' for label in labels]\n",
    "    index = [f'Actual {label}' for label in labels]\n",
    "    table = pd.DataFrame(confusion_matrix(y_true, y_pred),\n",
    "                         columns=columns,\n",
    "                         index=index)\n",
    "    return sns.heatmap(table, annot=True, fmt='d', cmap='copper_r')"
   ]
  },
  {
   "cell_type": "code",
   "execution_count": 31,
   "metadata": {
    "ExecuteTime": {
     "end_time": "2019-06-27T21:36:53.244662Z",
     "start_time": "2019-06-27T21:36:53.231670Z"
    }
   },
   "outputs": [],
   "source": [
    "def set_threshold(y_true, y_pred_proba, threshold=.48):\n",
    "    \n",
    "    print(f'Threshold: {threshold}')\n",
    "    \n",
    "    # Apply threshold to probabilies of positive prediction.\n",
    "    class_0, class_1 = unique_labels(y_true)\n",
    "    y_pred = np.full_like(y_true, fill_value=class_0)\n",
    "    y_pred[y_pred_proba > threshold] = class_1\n",
    "\n",
    "    # Plot distribution of predicted probabilities.\n",
    "    ax = sns.distplot(y_pred_proba)\n",
    "    ax.axvline(threshold, color='r')\n",
    "    plt.title('Distribution of predicted probabilities')\n",
    "    plt.show()\n",
    "    \n",
    "    # Calculate true positive and false positive rates.\n",
    "    true_pos = (y_pred == y_true) & (y_pred == class_1)\n",
    "    false_pos = (y_pred != y_true) & (y_pred == class_1)\n",
    "    actual_pos = y_true == class_1\n",
    "    actual_neg = y_true == class_0\n",
    "    true_pos_rate = true_pos.sum() / actual_pos.sum()\n",
    "    false_pos_rate = false_pos.sum() / actual_neg.sum()\n",
    "    print(f'True Positive Rate: {true_pos_rate:.4f}')\n",
    "    print(f'False Positive Rate: {false_pos_rate:.4f}')\n",
    "    \n",
    "    # Plot ROC curve.\n",
    "    fpr, tpr, thresholds = roc_curve(y_true==class_1, y_pred_proba)\n",
    "    plt.plot(fpr, tpr)\n",
    "    plt.title('ROC Curve')\n",
    "    plt.ylabel('True Positive Rate')\n",
    "    plt.xlabel('False Positive Rate')\n",
    "    \n",
    "    # Plot point for current threshold.\n",
    "    plt.scatter(false_pos_rate, true_pos_rate)\n",
    "    plt.show()\n",
    "    \n",
    "    print(f'Area under ROC: {roc_auc_score(y_true, y_pred_proba):.4f}')\n",
    "    \n",
    "    nice_confusion(y_true, y_pred)\n",
    "    print(classification_report(y_true, y_pred))\n"
   ]
  },
  {
   "cell_type": "code",
   "execution_count": 32,
   "metadata": {
    "ExecuteTime": {
     "end_time": "2019-06-27T21:37:10.695234Z",
     "start_time": "2019-06-27T21:37:08.936875Z"
    },
    "scrolled": false
   },
   "outputs": [
    {
     "data": {
      "application/vnd.jupyter.widget-view+json": {
       "model_id": "cf6b330225f144ed8ac5e6f30f285f46",
       "version_major": 2,
       "version_minor": 0
      },
      "text/plain": [
       "interactive(children=(FloatSlider(value=0.48, description='threshold', max=0.5, min=0.47, step=0.0001), Output…"
      ]
     },
     "metadata": {},
     "output_type": "display_data"
    }
   ],
   "source": [
    "interact(set_threshold,\n",
    "        y_true=fixed(y_val),\n",
    "        y_pred_proba=fixed(y_pred_proba1),\n",
    "        threshold=(0.47, 0.5, 0.0001));"
   ]
  },
  {
   "cell_type": "markdown",
   "metadata": {},
   "source": [
    "Test time!!"
   ]
  },
  {
   "cell_type": "code",
   "execution_count": 33,
   "metadata": {
    "ExecuteTime": {
     "end_time": "2019-06-27T21:37:38.280708Z",
     "start_time": "2019-06-27T21:37:32.687892Z"
    }
   },
   "outputs": [
    {
     "name": "stdout",
     "output_type": "stream",
     "text": [
      "Test ROC AUC: 0.6925781870923621\n"
     ]
    }
   ],
   "source": [
    "\n",
    "test_pred_proba = best.predict_proba(X_test_)[:, 1] > 0.48\n",
    "print(f'Test ROC AUC: {roc_auc_score(y_test, test_pred_proba)}')"
   ]
  },
  {
   "cell_type": "markdown",
   "metadata": {},
   "source": [
    "Find individual instances to examine."
   ]
  },
  {
   "cell_type": "code",
   "execution_count": 34,
   "metadata": {
    "ExecuteTime": {
     "end_time": "2019-06-27T21:37:41.861930Z",
     "start_time": "2019-06-27T21:37:41.821950Z"
    },
    "scrolled": false
   },
   "outputs": [
    {
     "data": {
      "text/html": [
       "<div>\n",
       "<style scoped>\n",
       "    .dataframe tbody tr th:only-of-type {\n",
       "        vertical-align: middle;\n",
       "    }\n",
       "\n",
       "    .dataframe tbody tr th {\n",
       "        vertical-align: top;\n",
       "    }\n",
       "\n",
       "    .dataframe thead th {\n",
       "        text-align: right;\n",
       "    }\n",
       "</style>\n",
       "<table border=\"1\" class=\"dataframe\">\n",
       "  <thead>\n",
       "    <tr style=\"text-align: right;\">\n",
       "      <th></th>\n",
       "      <th>Age</th>\n",
       "      <th>Income</th>\n",
       "      <th>Over Median Income</th>\n",
       "      <th>Total Household</th>\n",
       "      <th>Overweight</th>\n",
       "      <th>Good Health</th>\n",
       "      <th>Fruit</th>\n",
       "      <th>Sleep Hrs</th>\n",
       "      <th>Insurance</th>\n",
       "      <th>Recent Dr Visit</th>\n",
       "      <th>Smoker</th>\n",
       "      <th>Alcohol</th>\n",
       "      <th>Diabetic</th>\n",
       "    </tr>\n",
       "    <tr>\n",
       "      <th>index</th>\n",
       "      <th></th>\n",
       "      <th></th>\n",
       "      <th></th>\n",
       "      <th></th>\n",
       "      <th></th>\n",
       "      <th></th>\n",
       "      <th></th>\n",
       "      <th></th>\n",
       "      <th></th>\n",
       "      <th></th>\n",
       "      <th></th>\n",
       "      <th></th>\n",
       "      <th></th>\n",
       "    </tr>\n",
       "  </thead>\n",
       "  <tbody>\n",
       "    <tr>\n",
       "      <th>54070</th>\n",
       "      <td>25-29</td>\n",
       "      <td>Refused</td>\n",
       "      <td>False</td>\n",
       "      <td>4.0</td>\n",
       "      <td>Over</td>\n",
       "      <td>Good</td>\n",
       "      <td>Daily</td>\n",
       "      <td>NaN</td>\n",
       "      <td>Yes</td>\n",
       "      <td>1-2 years</td>\n",
       "      <td>Never Smoked</td>\n",
       "      <td>1</td>\n",
       "      <td>False</td>\n",
       "    </tr>\n",
       "    <tr>\n",
       "      <th>71502</th>\n",
       "      <td>70-74</td>\n",
       "      <td>Refused</td>\n",
       "      <td>False</td>\n",
       "      <td>1.0</td>\n",
       "      <td>Normal</td>\n",
       "      <td>Good</td>\n",
       "      <td>Unknown</td>\n",
       "      <td>8.0</td>\n",
       "      <td>Unknown</td>\n",
       "      <td>Past Year</td>\n",
       "      <td>Current - Every Day</td>\n",
       "      <td>8</td>\n",
       "      <td>True</td>\n",
       "    </tr>\n",
       "    <tr>\n",
       "      <th>89244</th>\n",
       "      <td>60-64</td>\n",
       "      <td>$50-75K</td>\n",
       "      <td>False</td>\n",
       "      <td>2.0</td>\n",
       "      <td>Over</td>\n",
       "      <td>Excellent</td>\n",
       "      <td>Weekly</td>\n",
       "      <td>NaN</td>\n",
       "      <td>Yes</td>\n",
       "      <td>Past Year</td>\n",
       "      <td>Never Smoked</td>\n",
       "      <td>Unknown</td>\n",
       "      <td>False</td>\n",
       "    </tr>\n",
       "    <tr>\n",
       "      <th>15372</th>\n",
       "      <td>80-84</td>\n",
       "      <td>$20-25K</td>\n",
       "      <td>False</td>\n",
       "      <td>1.0</td>\n",
       "      <td>Normal</td>\n",
       "      <td>Fair</td>\n",
       "      <td>Unknown</td>\n",
       "      <td>NaN</td>\n",
       "      <td>Unknown</td>\n",
       "      <td>Past Year</td>\n",
       "      <td>Never Smoked</td>\n",
       "      <td>30</td>\n",
       "      <td>False</td>\n",
       "    </tr>\n",
       "    <tr>\n",
       "      <th>22160</th>\n",
       "      <td>60-64</td>\n",
       "      <td>$50-75K</td>\n",
       "      <td>False</td>\n",
       "      <td>2.0</td>\n",
       "      <td>Obese</td>\n",
       "      <td>Good</td>\n",
       "      <td>Unknown</td>\n",
       "      <td>NaN</td>\n",
       "      <td>Yes</td>\n",
       "      <td>Past Year</td>\n",
       "      <td>Former Smoker</td>\n",
       "      <td>Unknown</td>\n",
       "      <td>True</td>\n",
       "    </tr>\n",
       "    <tr>\n",
       "      <th>2266</th>\n",
       "      <td>55-59</td>\n",
       "      <td>$50-75K</td>\n",
       "      <td>False</td>\n",
       "      <td>2.0</td>\n",
       "      <td>Over</td>\n",
       "      <td>Very Good</td>\n",
       "      <td>Daily</td>\n",
       "      <td>NaN</td>\n",
       "      <td>Yes</td>\n",
       "      <td>2-5 years</td>\n",
       "      <td>Never Smoked</td>\n",
       "      <td>30</td>\n",
       "      <td>False</td>\n",
       "    </tr>\n",
       "    <tr>\n",
       "      <th>13484</th>\n",
       "      <td>30-34</td>\n",
       "      <td>$35-50K</td>\n",
       "      <td>False</td>\n",
       "      <td>3.0</td>\n",
       "      <td>Unknown</td>\n",
       "      <td>Excellent</td>\n",
       "      <td>Weekly</td>\n",
       "      <td>NaN</td>\n",
       "      <td>Yes</td>\n",
       "      <td>1-2 years</td>\n",
       "      <td>Never Smoked</td>\n",
       "      <td>Unknown</td>\n",
       "      <td>False</td>\n",
       "    </tr>\n",
       "    <tr>\n",
       "      <th>28437</th>\n",
       "      <td>30-34</td>\n",
       "      <td>&lt; $10K</td>\n",
       "      <td>False</td>\n",
       "      <td>1.0</td>\n",
       "      <td>Normal</td>\n",
       "      <td>Very Good</td>\n",
       "      <td>Unknown</td>\n",
       "      <td>NaN</td>\n",
       "      <td>No</td>\n",
       "      <td>5+ years</td>\n",
       "      <td>Former Smoker</td>\n",
       "      <td>Unknown</td>\n",
       "      <td>False</td>\n",
       "    </tr>\n",
       "    <tr>\n",
       "      <th>34222</th>\n",
       "      <td>65-69</td>\n",
       "      <td>$75+</td>\n",
       "      <td>True</td>\n",
       "      <td>2.0</td>\n",
       "      <td>Normal</td>\n",
       "      <td>Good</td>\n",
       "      <td>Daily</td>\n",
       "      <td>6.0</td>\n",
       "      <td>Unknown</td>\n",
       "      <td>Past Year</td>\n",
       "      <td>Never Smoked</td>\n",
       "      <td>Unknown</td>\n",
       "      <td>False</td>\n",
       "    </tr>\n",
       "    <tr>\n",
       "      <th>76630</th>\n",
       "      <td>55-59</td>\n",
       "      <td>$50-75K</td>\n",
       "      <td>False</td>\n",
       "      <td>1.0</td>\n",
       "      <td>Obese</td>\n",
       "      <td>Excellent</td>\n",
       "      <td>Unknown</td>\n",
       "      <td>7.0</td>\n",
       "      <td>Yes</td>\n",
       "      <td>Past Year</td>\n",
       "      <td>Never Smoked</td>\n",
       "      <td>1</td>\n",
       "      <td>False</td>\n",
       "    </tr>\n",
       "    <tr>\n",
       "      <th>29815</th>\n",
       "      <td>25-29</td>\n",
       "      <td>$75+</td>\n",
       "      <td>True</td>\n",
       "      <td>1.0</td>\n",
       "      <td>Obese</td>\n",
       "      <td>Good</td>\n",
       "      <td>Unknown</td>\n",
       "      <td>NaN</td>\n",
       "      <td>Yes</td>\n",
       "      <td>Past Year</td>\n",
       "      <td>Current - Some Days</td>\n",
       "      <td>1</td>\n",
       "      <td>False</td>\n",
       "    </tr>\n",
       "    <tr>\n",
       "      <th>90767</th>\n",
       "      <td>60-64</td>\n",
       "      <td>$50-75K</td>\n",
       "      <td>False</td>\n",
       "      <td>2.0</td>\n",
       "      <td>Over</td>\n",
       "      <td>Very Good</td>\n",
       "      <td>Daily</td>\n",
       "      <td>NaN</td>\n",
       "      <td>Yes</td>\n",
       "      <td>Past Year</td>\n",
       "      <td>Never Smoked</td>\n",
       "      <td>4</td>\n",
       "      <td>False</td>\n",
       "    </tr>\n",
       "    <tr>\n",
       "      <th>52019</th>\n",
       "      <td>18-24</td>\n",
       "      <td>$20-25K</td>\n",
       "      <td>False</td>\n",
       "      <td>4.0</td>\n",
       "      <td>Under</td>\n",
       "      <td>Good</td>\n",
       "      <td>Weekly</td>\n",
       "      <td>NaN</td>\n",
       "      <td>Unknown</td>\n",
       "      <td>Past Year</td>\n",
       "      <td>Never Smoked</td>\n",
       "      <td>Unknown</td>\n",
       "      <td>False</td>\n",
       "    </tr>\n",
       "    <tr>\n",
       "      <th>21628</th>\n",
       "      <td>35-39</td>\n",
       "      <td>Refused</td>\n",
       "      <td>False</td>\n",
       "      <td>4.0</td>\n",
       "      <td>Normal</td>\n",
       "      <td>Very Good</td>\n",
       "      <td>Unknown</td>\n",
       "      <td>NaN</td>\n",
       "      <td>Yes</td>\n",
       "      <td>1-2 years</td>\n",
       "      <td>Never Smoked</td>\n",
       "      <td>4</td>\n",
       "      <td>False</td>\n",
       "    </tr>\n",
       "    <tr>\n",
       "      <th>63619</th>\n",
       "      <td>65-69</td>\n",
       "      <td>$35-50K</td>\n",
       "      <td>False</td>\n",
       "      <td>2.0</td>\n",
       "      <td>Obese</td>\n",
       "      <td>Good</td>\n",
       "      <td>Daily</td>\n",
       "      <td>NaN</td>\n",
       "      <td>Unknown</td>\n",
       "      <td>Past Year</td>\n",
       "      <td>Former Smoker</td>\n",
       "      <td>2</td>\n",
       "      <td>True</td>\n",
       "    </tr>\n",
       "    <tr>\n",
       "      <th>85455</th>\n",
       "      <td>55-59</td>\n",
       "      <td>$75+</td>\n",
       "      <td>True</td>\n",
       "      <td>2.0</td>\n",
       "      <td>Over</td>\n",
       "      <td>Good</td>\n",
       "      <td>Daily</td>\n",
       "      <td>NaN</td>\n",
       "      <td>Yes</td>\n",
       "      <td>Past Year</td>\n",
       "      <td>Former Smoker</td>\n",
       "      <td>15</td>\n",
       "      <td>False</td>\n",
       "    </tr>\n",
       "    <tr>\n",
       "      <th>30649</th>\n",
       "      <td>70-74</td>\n",
       "      <td>$20-25K</td>\n",
       "      <td>False</td>\n",
       "      <td>2.0</td>\n",
       "      <td>Normal</td>\n",
       "      <td>Very Good</td>\n",
       "      <td>Daily</td>\n",
       "      <td>7.0</td>\n",
       "      <td>Unknown</td>\n",
       "      <td>Past Year</td>\n",
       "      <td>Never Smoked</td>\n",
       "      <td>Unknown</td>\n",
       "      <td>True</td>\n",
       "    </tr>\n",
       "    <tr>\n",
       "      <th>59972</th>\n",
       "      <td>55-59</td>\n",
       "      <td>$75+</td>\n",
       "      <td>True</td>\n",
       "      <td>1.0</td>\n",
       "      <td>Over</td>\n",
       "      <td>Very Good</td>\n",
       "      <td>Daily</td>\n",
       "      <td>NaN</td>\n",
       "      <td>Yes</td>\n",
       "      <td>Past Year</td>\n",
       "      <td>Never Smoked</td>\n",
       "      <td>12</td>\n",
       "      <td>False</td>\n",
       "    </tr>\n",
       "    <tr>\n",
       "      <th>81561</th>\n",
       "      <td>60-64</td>\n",
       "      <td>$75+</td>\n",
       "      <td>True</td>\n",
       "      <td>2.0</td>\n",
       "      <td>Normal</td>\n",
       "      <td>Very Good</td>\n",
       "      <td>Unknown</td>\n",
       "      <td>8.0</td>\n",
       "      <td>Yes</td>\n",
       "      <td>Past Year</td>\n",
       "      <td>Never Smoked</td>\n",
       "      <td>6</td>\n",
       "      <td>False</td>\n",
       "    </tr>\n",
       "    <tr>\n",
       "      <th>36025</th>\n",
       "      <td>80-84</td>\n",
       "      <td>$25-35K</td>\n",
       "      <td>False</td>\n",
       "      <td>1.0</td>\n",
       "      <td>Over</td>\n",
       "      <td>Very Good</td>\n",
       "      <td>Daily</td>\n",
       "      <td>6.0</td>\n",
       "      <td>Unknown</td>\n",
       "      <td>Past Year</td>\n",
       "      <td>Former Smoker</td>\n",
       "      <td>30</td>\n",
       "      <td>False</td>\n",
       "    </tr>\n",
       "  </tbody>\n",
       "</table>\n",
       "</div>"
      ],
      "text/plain": [
       "         Age   Income  Over Median Income  Total Household Overweight  \\\n",
       "index                                                                   \n",
       "54070  25-29  Refused               False              4.0       Over   \n",
       "71502  70-74  Refused               False              1.0     Normal   \n",
       "89244  60-64  $50-75K               False              2.0       Over   \n",
       "15372  80-84  $20-25K               False              1.0     Normal   \n",
       "22160  60-64  $50-75K               False              2.0      Obese   \n",
       "2266   55-59  $50-75K               False              2.0       Over   \n",
       "13484  30-34  $35-50K               False              3.0    Unknown   \n",
       "28437  30-34   < $10K               False              1.0     Normal   \n",
       "34222  65-69     $75+                True              2.0     Normal   \n",
       "76630  55-59  $50-75K               False              1.0      Obese   \n",
       "29815  25-29     $75+                True              1.0      Obese   \n",
       "90767  60-64  $50-75K               False              2.0       Over   \n",
       "52019  18-24  $20-25K               False              4.0      Under   \n",
       "21628  35-39  Refused               False              4.0     Normal   \n",
       "63619  65-69  $35-50K               False              2.0      Obese   \n",
       "85455  55-59     $75+                True              2.0       Over   \n",
       "30649  70-74  $20-25K               False              2.0     Normal   \n",
       "59972  55-59     $75+                True              1.0       Over   \n",
       "81561  60-64     $75+                True              2.0     Normal   \n",
       "36025  80-84  $25-35K               False              1.0       Over   \n",
       "\n",
       "      Good Health    Fruit  Sleep Hrs Insurance Recent Dr Visit  \\\n",
       "index                                                             \n",
       "54070        Good    Daily        NaN       Yes       1-2 years   \n",
       "71502        Good  Unknown        8.0   Unknown       Past Year   \n",
       "89244   Excellent   Weekly        NaN       Yes       Past Year   \n",
       "15372        Fair  Unknown        NaN   Unknown       Past Year   \n",
       "22160        Good  Unknown        NaN       Yes       Past Year   \n",
       "2266    Very Good    Daily        NaN       Yes       2-5 years   \n",
       "13484   Excellent   Weekly        NaN       Yes       1-2 years   \n",
       "28437   Very Good  Unknown        NaN        No        5+ years   \n",
       "34222        Good    Daily        6.0   Unknown       Past Year   \n",
       "76630   Excellent  Unknown        7.0       Yes       Past Year   \n",
       "29815        Good  Unknown        NaN       Yes       Past Year   \n",
       "90767   Very Good    Daily        NaN       Yes       Past Year   \n",
       "52019        Good   Weekly        NaN   Unknown       Past Year   \n",
       "21628   Very Good  Unknown        NaN       Yes       1-2 years   \n",
       "63619        Good    Daily        NaN   Unknown       Past Year   \n",
       "85455        Good    Daily        NaN       Yes       Past Year   \n",
       "30649   Very Good    Daily        7.0   Unknown       Past Year   \n",
       "59972   Very Good    Daily        NaN       Yes       Past Year   \n",
       "81561   Very Good  Unknown        8.0       Yes       Past Year   \n",
       "36025   Very Good    Daily        6.0   Unknown       Past Year   \n",
       "\n",
       "                    Smoker  Alcohol  Diabetic  \n",
       "index                                          \n",
       "54070         Never Smoked        1     False  \n",
       "71502  Current - Every Day        8      True  \n",
       "89244         Never Smoked  Unknown     False  \n",
       "15372         Never Smoked       30     False  \n",
       "22160        Former Smoker  Unknown      True  \n",
       "2266          Never Smoked       30     False  \n",
       "13484         Never Smoked  Unknown     False  \n",
       "28437        Former Smoker  Unknown     False  \n",
       "34222         Never Smoked  Unknown     False  \n",
       "76630         Never Smoked        1     False  \n",
       "29815  Current - Some Days        1     False  \n",
       "90767         Never Smoked        4     False  \n",
       "52019         Never Smoked  Unknown     False  \n",
       "21628         Never Smoked        4     False  \n",
       "63619        Former Smoker        2      True  \n",
       "85455        Former Smoker       15     False  \n",
       "30649         Never Smoked  Unknown      True  \n",
       "59972         Never Smoked       12     False  \n",
       "81561         Never Smoked        6     False  \n",
       "36025        Former Smoker       30     False  "
      ]
     },
     "execution_count": 34,
     "metadata": {},
     "output_type": "execute_result"
    }
   ],
   "source": [
    "test_trimmed1 = pd.concat([test_trimmed, y_test], axis=1, sort=False)\n",
    "test_trimmed1.tail(20)"
   ]
  },
  {
   "cell_type": "code",
   "execution_count": 35,
   "metadata": {
    "ExecuteTime": {
     "end_time": "2019-06-27T21:37:43.259947Z",
     "start_time": "2019-06-27T21:37:43.188989Z"
    },
    "scrolled": true
   },
   "outputs": [
    {
     "name": "stdout",
     "output_type": "stream",
     "text": [
      "True True 0.4822771\n"
     ]
    },
    {
     "data": {
      "text/html": [
       "<div>\n",
       "<style scoped>\n",
       "    .dataframe tbody tr th:only-of-type {\n",
       "        vertical-align: middle;\n",
       "    }\n",
       "\n",
       "    .dataframe tbody tr th {\n",
       "        vertical-align: top;\n",
       "    }\n",
       "\n",
       "    .dataframe thead th {\n",
       "        text-align: right;\n",
       "    }\n",
       "</style>\n",
       "<table border=\"1\" class=\"dataframe\">\n",
       "  <thead>\n",
       "    <tr style=\"text-align: right;\">\n",
       "      <th></th>\n",
       "      <th>Age</th>\n",
       "      <th>Income</th>\n",
       "      <th>Over Median Income</th>\n",
       "      <th>Total Household</th>\n",
       "      <th>Overweight</th>\n",
       "      <th>Good Health</th>\n",
       "      <th>Fruit</th>\n",
       "      <th>Sleep Hrs</th>\n",
       "      <th>Insurance</th>\n",
       "      <th>Recent Dr Visit</th>\n",
       "      <th>Smoker</th>\n",
       "      <th>Alcohol</th>\n",
       "      <th>Diabetic</th>\n",
       "    </tr>\n",
       "    <tr>\n",
       "      <th>index</th>\n",
       "      <th></th>\n",
       "      <th></th>\n",
       "      <th></th>\n",
       "      <th></th>\n",
       "      <th></th>\n",
       "      <th></th>\n",
       "      <th></th>\n",
       "      <th></th>\n",
       "      <th></th>\n",
       "      <th></th>\n",
       "      <th></th>\n",
       "      <th></th>\n",
       "      <th></th>\n",
       "    </tr>\n",
       "  </thead>\n",
       "  <tbody>\n",
       "    <tr>\n",
       "      <th>22160</th>\n",
       "      <td>60-64</td>\n",
       "      <td>$50-75K</td>\n",
       "      <td>False</td>\n",
       "      <td>2.0</td>\n",
       "      <td>Obese</td>\n",
       "      <td>Good</td>\n",
       "      <td>Unknown</td>\n",
       "      <td>NaN</td>\n",
       "      <td>Yes</td>\n",
       "      <td>Past Year</td>\n",
       "      <td>Former Smoker</td>\n",
       "      <td>Unknown</td>\n",
       "      <td>True</td>\n",
       "    </tr>\n",
       "  </tbody>\n",
       "</table>\n",
       "</div>"
      ],
      "text/plain": [
       "         Age   Income  Over Median Income  Total Household Overweight  \\\n",
       "index                                                                   \n",
       "22160  60-64  $50-75K               False              2.0      Obese   \n",
       "\n",
       "      Good Health    Fruit  Sleep Hrs Insurance Recent Dr Visit  \\\n",
       "index                                                             \n",
       "22160        Good  Unknown        NaN       Yes       Past Year   \n",
       "\n",
       "              Smoker  Alcohol  Diabetic  \n",
       "index                                    \n",
       "22160  Former Smoker  Unknown      True  "
      ]
     },
     "execution_count": 35,
     "metadata": {},
     "output_type": "execute_result"
    }
   ],
   "source": [
    "data = test_trimmed1[test_trimmed1.index == 22160]\n",
    "data_ = data.drop(columns='Diabetic')\n",
    "data_ = pipeline1.transform(data_)\n",
    "print(model.predict(data_)[0], best.predict_proba(data_)[:, 1][0] > 0.48, best.predict_proba(data_)[:, 1][0])\n",
    "data"
   ]
  },
  {
   "cell_type": "code",
   "execution_count": 36,
   "metadata": {
    "ExecuteTime": {
     "end_time": "2019-06-27T21:37:46.230601Z",
     "start_time": "2019-06-27T21:37:46.160641Z"
    },
    "scrolled": false
   },
   "outputs": [
    {
     "name": "stdout",
     "output_type": "stream",
     "text": [
      "True False 0.47905847\n"
     ]
    },
    {
     "data": {
      "text/html": [
       "<div>\n",
       "<style scoped>\n",
       "    .dataframe tbody tr th:only-of-type {\n",
       "        vertical-align: middle;\n",
       "    }\n",
       "\n",
       "    .dataframe tbody tr th {\n",
       "        vertical-align: top;\n",
       "    }\n",
       "\n",
       "    .dataframe thead th {\n",
       "        text-align: right;\n",
       "    }\n",
       "</style>\n",
       "<table border=\"1\" class=\"dataframe\">\n",
       "  <thead>\n",
       "    <tr style=\"text-align: right;\">\n",
       "      <th></th>\n",
       "      <th>Age</th>\n",
       "      <th>Income</th>\n",
       "      <th>Over Median Income</th>\n",
       "      <th>Total Household</th>\n",
       "      <th>Overweight</th>\n",
       "      <th>Good Health</th>\n",
       "      <th>Fruit</th>\n",
       "      <th>Sleep Hrs</th>\n",
       "      <th>Insurance</th>\n",
       "      <th>Recent Dr Visit</th>\n",
       "      <th>Smoker</th>\n",
       "      <th>Alcohol</th>\n",
       "      <th>Diabetic</th>\n",
       "    </tr>\n",
       "    <tr>\n",
       "      <th>index</th>\n",
       "      <th></th>\n",
       "      <th></th>\n",
       "      <th></th>\n",
       "      <th></th>\n",
       "      <th></th>\n",
       "      <th></th>\n",
       "      <th></th>\n",
       "      <th></th>\n",
       "      <th></th>\n",
       "      <th></th>\n",
       "      <th></th>\n",
       "      <th></th>\n",
       "      <th></th>\n",
       "    </tr>\n",
       "  </thead>\n",
       "  <tbody>\n",
       "    <tr>\n",
       "      <th>82568</th>\n",
       "      <td>70-74</td>\n",
       "      <td>$75+</td>\n",
       "      <td>True</td>\n",
       "      <td>2.0</td>\n",
       "      <td>Normal</td>\n",
       "      <td>Very Good</td>\n",
       "      <td>Daily</td>\n",
       "      <td>NaN</td>\n",
       "      <td>Unknown</td>\n",
       "      <td>Past Year</td>\n",
       "      <td>Former Smoker</td>\n",
       "      <td>28</td>\n",
       "      <td>True</td>\n",
       "    </tr>\n",
       "  </tbody>\n",
       "</table>\n",
       "</div>"
      ],
      "text/plain": [
       "         Age Income  Over Median Income  Total Household Overweight  \\\n",
       "index                                                                 \n",
       "82568  70-74   $75+                True              2.0     Normal   \n",
       "\n",
       "      Good Health  Fruit  Sleep Hrs Insurance Recent Dr Visit         Smoker  \\\n",
       "index                                                                          \n",
       "82568   Very Good  Daily        NaN   Unknown       Past Year  Former Smoker   \n",
       "\n",
       "      Alcohol  Diabetic  \n",
       "index                    \n",
       "82568      28      True  "
      ]
     },
     "execution_count": 36,
     "metadata": {},
     "output_type": "execute_result"
    }
   ],
   "source": [
    "data = test_trimmed1[test_trimmed1.index == 82568]\n",
    "data_ = data.drop(columns='Diabetic')\n",
    "data_ = pipeline1.transform(data_)\n",
    "print(model.predict(data_)[0], best.predict_proba(data_)[:, 1][0] > 0.48, best.predict_proba(data_)[:, 1][0])\n",
    "data"
   ]
  },
  {
   "cell_type": "code",
   "execution_count": 37,
   "metadata": {
    "ExecuteTime": {
     "end_time": "2019-06-27T21:37:47.630690Z",
     "start_time": "2019-06-27T21:37:47.569722Z"
    }
   },
   "outputs": [
    {
     "name": "stdout",
     "output_type": "stream",
     "text": [
      "True True 0.49140975\n"
     ]
    },
    {
     "data": {
      "text/html": [
       "<div>\n",
       "<style scoped>\n",
       "    .dataframe tbody tr th:only-of-type {\n",
       "        vertical-align: middle;\n",
       "    }\n",
       "\n",
       "    .dataframe tbody tr th {\n",
       "        vertical-align: top;\n",
       "    }\n",
       "\n",
       "    .dataframe thead th {\n",
       "        text-align: right;\n",
       "    }\n",
       "</style>\n",
       "<table border=\"1\" class=\"dataframe\">\n",
       "  <thead>\n",
       "    <tr style=\"text-align: right;\">\n",
       "      <th></th>\n",
       "      <th>Age</th>\n",
       "      <th>Income</th>\n",
       "      <th>Over Median Income</th>\n",
       "      <th>Total Household</th>\n",
       "      <th>Overweight</th>\n",
       "      <th>Good Health</th>\n",
       "      <th>Fruit</th>\n",
       "      <th>Sleep Hrs</th>\n",
       "      <th>Insurance</th>\n",
       "      <th>Recent Dr Visit</th>\n",
       "      <th>Smoker</th>\n",
       "      <th>Alcohol</th>\n",
       "      <th>Diabetic</th>\n",
       "    </tr>\n",
       "    <tr>\n",
       "      <th>index</th>\n",
       "      <th></th>\n",
       "      <th></th>\n",
       "      <th></th>\n",
       "      <th></th>\n",
       "      <th></th>\n",
       "      <th></th>\n",
       "      <th></th>\n",
       "      <th></th>\n",
       "      <th></th>\n",
       "      <th></th>\n",
       "      <th></th>\n",
       "      <th></th>\n",
       "      <th></th>\n",
       "    </tr>\n",
       "  </thead>\n",
       "  <tbody>\n",
       "    <tr>\n",
       "      <th>65666</th>\n",
       "      <td>40-44</td>\n",
       "      <td>$15-20K</td>\n",
       "      <td>False</td>\n",
       "      <td>4.0</td>\n",
       "      <td>Obese</td>\n",
       "      <td>Fair</td>\n",
       "      <td>None</td>\n",
       "      <td>NaN</td>\n",
       "      <td>Yes</td>\n",
       "      <td>2-5 years</td>\n",
       "      <td>Current - Every Day</td>\n",
       "      <td>Unknown</td>\n",
       "      <td>False</td>\n",
       "    </tr>\n",
       "  </tbody>\n",
       "</table>\n",
       "</div>"
      ],
      "text/plain": [
       "         Age   Income  Over Median Income  Total Household Overweight  \\\n",
       "index                                                                   \n",
       "65666  40-44  $15-20K               False              4.0      Obese   \n",
       "\n",
       "      Good Health Fruit  Sleep Hrs Insurance Recent Dr Visit  \\\n",
       "index                                                          \n",
       "65666        Fair  None        NaN       Yes       2-5 years   \n",
       "\n",
       "                    Smoker  Alcohol  Diabetic  \n",
       "index                                          \n",
       "65666  Current - Every Day  Unknown     False  "
      ]
     },
     "execution_count": 37,
     "metadata": {},
     "output_type": "execute_result"
    }
   ],
   "source": [
    "data = test_trimmed1[test_trimmed1.index == 65666]\n",
    "data_ = data.drop(columns='Diabetic')\n",
    "data_ = pipeline1.transform(data_)\n",
    "print(model.predict(data_)[0], best.predict_proba(data_)[:, 1][0] > 0.48, best.predict_proba(data_)[:, 1][0])\n",
    "data"
   ]
  },
  {
   "cell_type": "markdown",
   "metadata": {},
   "source": [
    " Start building mechanism to choose parameters for custom predictions."
   ]
  },
  {
   "cell_type": "code",
   "execution_count": 39,
   "metadata": {
    "ExecuteTime": {
     "end_time": "2019-06-27T21:38:37.977572Z",
     "start_time": "2019-06-27T21:38:37.876099Z"
    }
   },
   "outputs": [
    {
     "data": {
      "text/html": [
       "['columns.joblib']"
      ],
      "text/plain": [
       "['columns.joblib']"
      ]
     },
     "execution_count": 39,
     "metadata": {},
     "output_type": "execute_result"
    }
   ],
   "source": [
    "dump(pipeline1, 'pipeline.joblib')\n",
    "dump(best, 'estimator.joblib')\n",
    "dump(test_trimmed.columns, 'columns.joblib')\n",
    "# df.to_csv('data/model_data.csv')\n"
   ]
  },
  {
   "cell_type": "code",
   "execution_count": 40,
   "metadata": {
    "ExecuteTime": {
     "end_time": "2019-06-27T21:39:22.847568Z",
     "start_time": "2019-06-27T21:39:22.842567Z"
    }
   },
   "outputs": [
    {
     "data": {
      "text/plain": [
       "Index(['Age', 'Income', 'Over Median Income', 'Total Household', 'Overweight',\n",
       "       'Good Health', 'Fruit', 'Sleep Hrs', 'Insurance', 'Recent Dr Visit',\n",
       "       'Smoker', 'Alcohol'],\n",
       "      dtype='object')"
      ]
     },
     "execution_count": 40,
     "metadata": {},
     "output_type": "execute_result"
    }
   ],
   "source": [
    "test_trimmed.columns"
   ]
  },
  {
   "cell_type": "code",
   "execution_count": 50,
   "metadata": {
    "ExecuteTime": {
     "end_time": "2019-06-27T21:53:01.348223Z",
     "start_time": "2019-06-27T21:53:01.333231Z"
    }
   },
   "outputs": [
    {
     "data": {
      "text/plain": [
       "Unknown    7271\n",
       "1          1455\n",
       "4          1271\n",
       "2          1043\n",
       "30         1030\n",
       "8           820\n",
       "20          804\n",
       "3           640\n",
       "12          622\n",
       "5           569\n",
       "10          446\n",
       "28          428\n",
       "15          411\n",
       "16          295\n",
       "25          252\n",
       "6           236\n",
       "7           155\n",
       "24          118\n",
       "0            45\n",
       "14           32\n",
       "29           19\n",
       "18           16\n",
       "26           14\n",
       "9            13\n",
       "27           12\n",
       "22            9\n",
       "21            7\n",
       "13            7\n",
       "17            6\n",
       "11            5\n",
       "23            4\n",
       "19            3\n",
       "Name: Alcohol, dtype: int64"
      ]
     },
     "execution_count": 50,
     "metadata": {},
     "output_type": "execute_result"
    }
   ],
   "source": [
    "test_trimmed['Alcohol'].value_counts()"
   ]
  },
  {
   "cell_type": "code",
   "execution_count": 57,
   "metadata": {
    "ExecuteTime": {
     "end_time": "2019-06-27T21:55:40.775949Z",
     "start_time": "2019-06-27T21:55:40.730973Z"
    }
   },
   "outputs": [
    {
     "data": {
      "text/html": [
       "['column_values.joblib']"
      ],
      "text/plain": [
       "['column_values.joblib']"
      ]
     },
     "execution_count": 57,
     "metadata": {},
     "output_type": "execute_result"
    }
   ],
   "source": [
    "column_values = {'Age': list(sorted(test_trimmed['Age'].value_counts().index.tolist())),\n",
    "                 'Income': ['< $10K', \n",
    "                            '$10-15K', \n",
    "                            '$15-20K', \n",
    "                            '$20-25K', \n",
    "                            '$25-30K', \n",
    "                            '$30-35K',\n",
    "                            '$35-40K',\n",
    "                            '$40-45K',\n",
    "                            '$45-50K',\n",
    "                            '$50-55K',\n",
    "                            '$55-60K',\n",
    "                            '$60-65K',\n",
    "                            '$65-70K',\n",
    "                            '$75+',\n",
    "                            'Unknown'\n",
    "                           ],\n",
    "                 'Over Median Income': ['True',\n",
    "                                        'False'],\n",
    "                 'Total Household': list(sorted(test_trimmed['Total Household'].value_counts().index.tolist())),\n",
    "                 'Overweight': ['Under',\n",
    "                                'Normal',\n",
    "                                'Over',\n",
    "                                'Obese',\n",
    "                                'Unknown'],\n",
    "                 'Good Health': ['Excelent',\n",
    "                                 'Very Good',\n",
    "                                 'Good',\n",
    "                                 'Fair',\n",
    "                                 'Poor',\n",
    "                                 'Unknown'],\n",
    "                 'Fruit': ['Daily',\n",
    "                           'Weekly',\n",
    "                           'Monthly',\n",
    "                           'None',\n",
    "                           'Unknown'],\n",
    "                 'Sleep Hrs': list(sorted(test_trimmed['Sleep Hrs'].value_counts().index.tolist())),\n",
    "                 'Insurance': ['Yes',\n",
    "                               'No',\n",
    "                               'Unknown'],\n",
    "                 'Recent Dr Visit': test_trimmed['Recent Dr Visit'].value_counts().index.tolist(),\n",
    "                 'Smoker': test_trimmed['Smoker'].value_counts().index.tolist(),\n",
    "                 'Alcohol': list(sorted(test_trimmed['Alcohol'].value_counts().index.tolist()))\n",
    "                 }\n",
    "dump(column_values, 'column_values.joblib')\n",
    "# column_values"
   ]
  },
  {
   "cell_type": "code",
   "execution_count": 56,
   "metadata": {
    "ExecuteTime": {
     "end_time": "2019-06-27T21:55:16.663831Z",
     "start_time": "2019-06-27T21:55:16.655832Z"
    }
   },
   "outputs": [
    {
     "name": "stdout",
     "output_type": "stream",
     "text": [
      "['False', 'True']\n"
     ]
    },
    {
     "data": {
      "text/html": [
       "['Age', 'Income', 'Over Median Income', 'Total Household', 'Overweight', 'Good Health', 'Fruit', 'Sleep Hrs', 'Insurance', 'Recent Dr Visit', 'Smoker', 'Alcohol']"
      ],
      "text/plain": [
       "['Age',\n",
       " 'Income',\n",
       " 'Over Median Income',\n",
       " 'Total Household',\n",
       " 'Overweight',\n",
       " 'Good Health',\n",
       " 'Fruit',\n",
       " 'Sleep Hrs',\n",
       " 'Insurance',\n",
       " 'Recent Dr Visit',\n",
       " 'Smoker',\n",
       " 'Alcohol']"
      ]
     },
     "execution_count": 56,
     "metadata": {},
     "output_type": "execute_result"
    }
   ],
   "source": [
    "columns = list(column_values.keys())\n",
    "print(column_values['Over Median Income'])\n",
    "columns"
   ]
  },
  {
   "cell_type": "code",
   "execution_count": null,
   "metadata": {},
   "outputs": [],
   "source": []
  }
 ],
 "metadata": {
  "kernelspec": {
   "display_name": "Python 3",
   "language": "python",
   "name": "python3"
  },
  "language_info": {
   "codemirror_mode": {
    "name": "ipython",
    "version": 3
   },
   "file_extension": ".py",
   "mimetype": "text/x-python",
   "name": "python",
   "nbconvert_exporter": "python",
   "pygments_lexer": "ipython3",
   "version": "3.6.8"
  },
  "varInspector": {
   "cols": {
    "lenName": 16,
    "lenType": 16,
    "lenVar": 40
   },
   "kernels_config": {
    "python": {
     "delete_cmd_postfix": "",
     "delete_cmd_prefix": "del ",
     "library": "var_list.py",
     "varRefreshCmd": "print(var_dic_list())"
    },
    "r": {
     "delete_cmd_postfix": ") ",
     "delete_cmd_prefix": "rm(",
     "library": "var_list.r",
     "varRefreshCmd": "cat(var_dic_list()) "
    }
   },
   "oldHeight": 122,
   "position": {
    "height": "40px",
    "left": "626.969px",
    "right": "20px",
    "top": "5.98438px",
    "width": "250px"
   },
   "types_to_exclude": [
    "module",
    "function",
    "builtin_function_or_method",
    "instance",
    "_Feature"
   ],
   "varInspector_section_display": "none",
   "window_display": true
  }
 },
 "nbformat": 4,
 "nbformat_minor": 2
}
